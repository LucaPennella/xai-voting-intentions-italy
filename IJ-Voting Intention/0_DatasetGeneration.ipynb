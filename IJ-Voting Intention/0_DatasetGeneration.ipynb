{
 "cells": [
  {
   "cell_type": "code",
   "execution_count": 1,
   "id": "88dd7124",
   "metadata": {},
   "outputs": [],
   "source": [
    "import pandas as pd\n",
    "import numpy as np\n",
    "from sklearn.model_selection import train_test_split, RandomizedSearchCV, cross_val_score, cross_val_predict\n",
    "from sklearn.metrics import accuracy_score, precision_score, recall_score, f1_score, fbeta_score, make_scorer, confusion_matrix, precision_recall_curve\n",
    "from sklearn.model_selection import GridSearchCV\n",
    "from sklearn.ensemble import RandomForestClassifier\n",
    "from sklearn.preprocessing import LabelEncoder\n",
    "from sklearn.metrics import confusion_matrix, classification_report\n",
    "import seaborn as sns\n",
    "import matplotlib.pyplot as plt\n",
    "from sklearn.feature_selection import RFE\n",
    "import lightgbm as lgb"
   ]
  },
  {
   "cell_type": "code",
   "execution_count": 19,
   "id": "406587a0",
   "metadata": {},
   "outputs": [
    {
     "name": "stderr",
     "output_type": "stream",
     "text": [
      "C:\\Users\\lucap\\AppData\\Local\\Temp\\ipykernel_2880\\208190578.py:3: DtypeWarning: Columns (0,4,8,9,10,11,12,13,17,18,19,20,21,22,23,24,25,26,27,28,29,30,31,32,33,34,35,36,37,38,39,44,45,46,47,49,50,51,52,53,54,55,61,62,63,64,65,66,68,69,70,71,78,80,82,84,85,86,87,91,93,94,96,97,98,99,101,102,103,105,106,108,109,110,111,113,114,115,117,118,119,120,121,123,124,125,126,128,129,130,132,133,134,136,137,138,139,140,142,143,144,145,146,147,148,150,151,153,154,155,157,158,159,162,164,165,166,167,169,170,171,172,173,174,175,176,177,178,179,180,181,182,184,185,186,187,188,189,190,191,192,194,195,196,197,198,199,200,201,202,203,204,205,207,209,211,212,213,214,215,217,218,219,221,222,223,224,225,226,227,228,229,230,231,232,233,235,236,239,240,242,243,245,246,248,249,250,251,252,253,254,255,256,257,258,261,263,264,265,266,267,272,274,275,276,277,278,279,280,281,282,283,284,285,286,287,288,289,290,292,293,294,295,296,297,298,299,300,301,302,303,305,306,307,309,310,311,312,313,314,316,317,318,320,321,322,324,325,326,327,328,330,331,332,333,334,335,337,338,339,340,342,343,344,345,346,347,348,349,350,352,353,354,356,357,358,359,360,362,363,364,365,367,368,369,370,371,372,373,374,376,377,378,379,380,381,382,384,385,386,387,388,389,390,392,393,394,396,397,398,399,400,401,402,403,404,405,406,407,408,409,410,411,412,413,414,415,416,417,419,420,421,422,423,424,426,427,428,429,431,432,433,435,436,437,438,439,440,441,442,443,444,445,446,447,448,449,450,451,452,453,454,455,456,457,458,459,460,461,462,463,464,465,466,467,468,469,470,472,473,474,475,476,477,478,480,481,482,484,485,486,487,488,489,490,491,492,493,494,495,496,497,498,499,500,501,502,503,504,505,506,507,508,509,510,511,512,513,514,515,517,518,520,521,522,523,524,525,526,527,528,529,530,531,532,533,534,535,536,537,538,539,540,541,542,543,544,545,546,547,548,549,551,552,553,554,555,556,557,559,560,561,562,563,564,565,566,568,569,570,571,572,573,574,575,576,577,578,579,580,581,582,583,584,585,587,588,589,590,591,592,593,594,595,596,597,598,599,600,601,602,604,605,608,609,610,611,612,613,614,615,616,617,618,619,620,621,622,623,624,625,626,628,629,630,631,632,633,634,636,637,638,639,641,642,643,644,646,647,648,649,651,652,653,656,657,658,659,660,661,662,663,664,665,666,667,669,670,671,672,674,675,676,677,678,680,682,684,685,686,688,689,690,691,692,693,694,695,696,697,698,700,701,702,703,704,705,706,707,709,710,711,713,714,715,716,717,718,719,720,721,722,724,725,726,727,728,729,730,731,734,735,737,738,742,743,744,745,746,747,748,749,750,751,752,753,754,755,756,757,758,759,760,761,762,763,764,765,766,767,768,769,770,771,772,773,774,775,776,777,778,779,780,781,782,783,784,785,786,787,788,789,790,791,792,793,794,795,796,797,798,799,800,801,802,803,804,805,806,807,808,809,810,811,812,813,814,815,816,817,818,819,820,821,822,823) have mixed types. Specify dtype option on import or set low_memory=False.\n",
      "  df = pd.read_csv(filepath, sep = \";\" )\n",
      "C:\\Users\\lucap\\AppData\\Local\\Temp\\ipykernel_2880\\208190578.py:9: FutureWarning: DataFrame.applymap has been deprecated. Use DataFrame.map instead.\n",
      "  df = df.applymap(lambda x: x.strip() if isinstance(x, str) else x)\n"
     ]
    }
   ],
   "source": [
    "#lettura csv\n",
    "filepath = r\"C:\\Users\\lucap\\OneDrive\\Desktop\\PhD\\Racheal\\Dati\\Walden 97-19 integrated v2.csv\"\n",
    "df = pd.read_csv(filepath, sep = \";\" )\n",
    "#df = df[df['m_anno_indagine'] > 2016] #seleziono le righe che riguardano l'osservatorio dal 2019 in poi\n",
    "df = df[df['m_anno_indagine']>=2017].drop_duplicates(subset='IDU', keep=\"last\")\n",
    "df = df[\n",
    "   df.columns[ df.isna().sum() <= 0.3 * len(df) ] ]#seleziono solo le colonne hanno valori Nan inferiori al 30%\n",
    "# Rimuovere gli spazi bianchi da tutte le colonne\n",
    "df = df.applymap(lambda x: x.strip() if isinstance(x, str) else x)\n",
    "\n",
    "le = LabelEncoder()\n",
    "df['m_sesso'] = le.fit_transform(df['m_sesso'])\n",
    "df['m_p_pubblico_privato'] = le.fit_transform(df['m_p_pubblico_privato'])\n",
    "df['m_p_nascita_in_italia_genitori'] = le.fit_transform(df['m_p_nascita_in_italia_genitori'])"
   ]
  },
  {
   "cell_type": "code",
   "execution_count": 20,
   "id": "20231981",
   "metadata": {},
   "outputs": [],
   "source": [
    "varsToDrop = ['IDU','m_pesos','m_peso',\"m_p_cittadinanza\", \"m_p_data_nascita\", \"m_modalita_telefono_vs_online\",\n",
    "    'm_p_comune_istat',\n",
    "                'm_p_data_nascita','m_p_eta_6',\n",
    "                    'm_p_in_ita_dal','m_p_origini',\n",
    "                            'm_sr_professione','m_sr_statusSocioEconomico_ceto',\"m_p_autocol\"\n",
    "                            ] # rimuovo regioni perchè uso one hot e non voglio aumentare troppo il numero di colonne\n",
    "df= df.drop(varsToDrop, axis=1)\n"
   ]
  },
  {
   "cell_type": "code",
   "execution_count": 21,
   "id": "d609daeb",
   "metadata": {},
   "outputs": [],
   "source": [
    "varsToDrop_val = [\"m_op_unita_nazionale\", 'm_op_costituzione.1','m_op_miglioramento_rapp_stato_cittadini','m_op_ventennio',\n",
    "'m_op_criminalita_ultimiAnni_doveVive','m_op_cambio_legge_aborto','m_op_organizzazioneEuropa_futuro', 'm_op_fiducia_in_sindacati','m_p_iscrizione_sindacato'\n",
    ",'m_op_tensioneSociale_italianiVSextracom_propriaCitta','m_op_sistemaScolasticoItaliano','m_op_reazione_a_discussioni_politiche',\n",
    "'m_op_fiducia_negli_altri','m_op_inclusione_societa','m_op_margineIntervento_vita','m_op_paure_della_vecchiaia','m_fiducia_proprieIdee_rispetto_avvenimentiMondo'\n",
    ",'m_op_origine_maggiorImpulso_ripresa_italia', 'm_op_profilo_socioCulturale_vs_genitori','m_op_causePrincipali_violenzaDonne_1','m_op_causePrincipali_violenzaDonne_2',\n",
    "'m_op_circostanze_cheGiustificano_violenzaMoglie','m_op_priorita_per_affrontare_violenzaDonne_1','m_op_priorita_per_affrontare_violenzaDonne_2', 'm_TREND_15_FASCISMO NEW',\n",
    "'m_op_quanto_populista_PD','m_op_quanto_populista_M5S','m_op_quanto_populista_Lega','m_op_quanto_populista_FI','m_op_definizione_populismo',\n",
    "'m_op_caratteristiche_dei_politici_apprezzati','m_op_cosa_contradistingue_comunita','m_op_pericoliEdisagi_figli_cheSpaventano_genitori_04',\n",
    "'m_op_pericoliEdisagi_figli_cheSpaventano_genitori_03','m_op_pericoliEdisagi_figli_cheSpaventano_genitori_02','m_op_pericoliEdisagi_figli_cheSpaventano_genitori_01',\n",
    "'m_op_definizione_bene_comune','m_op_comunita_appartenenza_01','m_p_zona_5istat','m_op_rimanere_in_propriaZona_vs_spostarsi',\n",
    "'m_ac_preparazione_nuoveGenerazioni_piuScadente','m_op_attualita_concetti_sinistraCentroDestra','m_op_importanza_essereItaliano',\n",
    "'m_op_attitudine_italiani_fascismo']\n",
    "df= df.drop(varsToDrop_val, axis=1)"
   ]
  },
  {
   "cell_type": "code",
   "execution_count": 23,
   "id": "9abd1e0c",
   "metadata": {},
   "outputs": [
    {
     "data": {
      "text/plain": [
       "(4504, 161)"
      ]
     },
     "execution_count": 23,
     "metadata": {},
     "output_type": "execute_result"
    }
   ],
   "source": [
    "df.shape"
   ]
  },
  {
   "cell_type": "code",
   "execution_count": 24,
   "id": "83b77e49",
   "metadata": {},
   "outputs": [],
   "source": [
    "save_path = r\"C:\\Users\\lucap\\OneDrive\\Desktop\\PhD\\Racheal\\Dati\\dataset_clean.csv\" "
   ]
  },
  {
   "cell_type": "code",
   "execution_count": 25,
   "id": "d88505d6",
   "metadata": {},
   "outputs": [],
   "source": [
    "df.to_csv(\n",
    "    save_path,\n",
    "    index=False,        # niente indice nel CSV\n",
    "    encoding=\"utf-8\",   # evita problemi di caratteri accentati\n",
    "    sep=\";\"             # se preferisci il separatore semicolon\n",
    ")"
   ]
  }
 ],
 "metadata": {
  "kernelspec": {
   "display_name": "base",
   "language": "python",
   "name": "python3"
  },
  "language_info": {
   "codemirror_mode": {
    "name": "ipython",
    "version": 3
   },
   "file_extension": ".py",
   "mimetype": "text/x-python",
   "name": "python",
   "nbconvert_exporter": "python",
   "pygments_lexer": "ipython3",
   "version": "3.12.7"
  }
 },
 "nbformat": 4,
 "nbformat_minor": 5
}
